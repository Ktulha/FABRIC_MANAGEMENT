{
 "cells": [
  {
   "cell_type": "code",
   "execution_count": 1,
   "id": "ac3c7f9c",
   "metadata": {},
   "outputs": [],
   "source": [
    "import pandas as pd\n",
    "import numpy as np"
   ]
  },
  {
   "cell_type": "code",
   "execution_count": 2,
   "id": "52a5bff4",
   "metadata": {},
   "outputs": [],
   "source": [
    "df=pd.read_csv('продажи.txt', encoding='utf-8', delimiter='\\t',na_values=[''],dtype=str)"
   ]
  },
  {
   "cell_type": "code",
   "execution_count": 3,
   "id": "359ba3d0",
   "metadata": {},
   "outputs": [],
   "source": [
    "df.columns=['date','stock_name','product_name','product_variant','product_barcode','quantity']\n",
    "df=df.dropna(subset=['stock_name'])\n",
    "df['product_barcode']=df['product_barcode'].astype('str')\n",
    "df['stock_name']=df['stock_name'].astype('str')\n",
    "df['product_name']=df['product_name'].astype('str')\n",
    "df['product_variant']=df['product_variant'].astype('str')\n",
    "df['quantity']=df['quantity'].replace(regex={',':'.'}).astype('float')\n",
    "\n"
   ]
  },
  {
   "cell_type": "code",
   "execution_count": 4,
   "id": "3988b835",
   "metadata": {},
   "outputs": [],
   "source": [
    "df['region_code']=df['stock_name'].str.split('-').str[0].str[-2:]\n",
    "df['region']=df['region_code']+'-'\n",
    "\n",
    "df['product']=df['product_name']+', '+df['product_variant']\n",
    "df['product']=df['product'].str.replace(', nan','')\n",
    "df['sale_object']='retail'\n",
    "df=df[['sale_object','region','region_code','product','product_barcode','date','quantity']]\n",
    "df=df.groupby(['sale_object','region','region_code','product','product_barcode','date']).agg({'quantity':'sum'}).reset_index()\n",
    "df=df.astype(str)"
   ]
  },
  {
   "cell_type": "code",
   "execution_count": 5,
   "id": "b9b0bc99",
   "metadata": {},
   "outputs": [],
   "source": [
    "df.to_csv('sales.csv',sep=';',index=False,encoding='utf-8',quotechar='\"')"
   ]
  }
 ],
 "metadata": {
  "kernelspec": {
   "display_name": "Python 3",
   "language": "python",
   "name": "python3"
  },
  "language_info": {
   "codemirror_mode": {
    "name": "ipython",
    "version": 3
   },
   "file_extension": ".py",
   "mimetype": "text/x-python",
   "name": "python",
   "nbconvert_exporter": "python",
   "pygments_lexer": "ipython3",
   "version": "3.12.4"
  }
 },
 "nbformat": 4,
 "nbformat_minor": 5
}
