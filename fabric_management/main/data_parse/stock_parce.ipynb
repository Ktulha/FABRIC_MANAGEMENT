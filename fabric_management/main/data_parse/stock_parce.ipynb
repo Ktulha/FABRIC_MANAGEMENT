{
 "cells": [
  {
   "cell_type": "code",
   "execution_count": 23,
   "id": "5d91ed00",
   "metadata": {},
   "outputs": [],
   "source": [
    "import pandas as pd\n",
    "import numpy as np\n"
   ]
  },
  {
   "cell_type": "code",
   "execution_count": 24,
   "id": "701adeb3",
   "metadata": {},
   "outputs": [],
   "source": [
    "df=pd.read_csv('остатки.txt',sep='\\t',encoding='utf-8',dtype=str)\n",
    "df.columns=['stock_date','warehouse','product','product_variant','product_barcode','quantity']\n",
    "# df.dropna(subset=['warehouse'])"
   ]
  },
  {
   "cell_type": "code",
   "execution_count": 25,
   "id": "6db1a399",
   "metadata": {},
   "outputs": [],
   "source": [
    "df.columns=['stock_date','warehouse','product_name','product_variant','product_barcode','quantity']\n",
    "df=df.dropna(subset=['warehouse'])\n",
    "df['product_name']=df['product_name'].astype('str')\n",
    "df['product_variant']=df['product_variant'].astype('str')\n",
    "df['quantity']=df['quantity'].replace(regex={',':'.'}).astype('float')\n",
    "\n"
   ]
  },
  {
   "cell_type": "code",
   "execution_count": 26,
   "id": "c5e72c93",
   "metadata": {},
   "outputs": [],
   "source": [
    "\n",
    "df['region_code']=df['warehouse'].str.split('-').str[0].str[-2:]\n",
    "df['region']=df['region_code']+'-'\n",
    "df['warehouse_code']=df['warehouse'].apply(lambda x: x.split('-')[0][-2:]+'-'+x.split('-')[1]+'-'+x.split('-')[2][:3])\n",
    "df['product']=df['product_name']+', '+  df['product_variant']\n",
    "df['product']=df['product'].str.replace(', nan','')\n",
    "# \n",
    "df=df[['stock_date','region','region_code','product','product_barcode','warehouse','warehouse_code','quantity']]\n"
   ]
  },
  {
   "cell_type": "code",
   "execution_count": 27,
   "id": "da177e7f",
   "metadata": {},
   "outputs": [],
   "source": [
    "df=df.groupby(['stock_date','region','region_code','product','product_barcode','warehouse','warehouse_code']).agg( {'quantity':'sum'}).reset_index()"
   ]
  },
  {
   "cell_type": "code",
   "execution_count": 28,
   "id": "889eb921",
   "metadata": {},
   "outputs": [],
   "source": [
    "df.to_csv('stock_parce.csv',index=False,encoding='utf-8',sep=';',quotechar='\"')"
   ]
  }
 ],
 "metadata": {
  "kernelspec": {
   "display_name": "Python 3",
   "language": "python",
   "name": "python3"
  },
  "language_info": {
   "codemirror_mode": {
    "name": "ipython",
    "version": 3
   },
   "file_extension": ".py",
   "mimetype": "text/x-python",
   "name": "python",
   "nbconvert_exporter": "python",
   "pygments_lexer": "ipython3",
   "version": "3.12.4"
  }
 },
 "nbformat": 4,
 "nbformat_minor": 5
}
