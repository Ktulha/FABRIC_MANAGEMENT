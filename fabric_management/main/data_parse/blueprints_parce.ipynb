{
 "cells": [
  {
   "cell_type": "code",
   "execution_count": 1,
   "id": "b21b74ba",
   "metadata": {},
   "outputs": [],
   "source": [
    "import pandas as pd\n",
    "import numpy as np"
   ]
  },
  {
   "cell_type": "code",
   "execution_count": 2,
   "id": "2db27b28",
   "metadata": {},
   "outputs": [],
   "source": [
    "df=pd.read_csv('спецификации.txt', encoding='utf-8', delimiter='\\t',na_values=[''],dtype=str)"
   ]
  },
  {
   "cell_type": "code",
   "execution_count": 3,
   "id": "9b68c9a9",
   "metadata": {},
   "outputs": [],
   "source": [
    "df.columns = ['owner_name','owner_variant','blueprint','material_name','material_variant','material_bp','quantity','owner_quantity','barcode','unit']\n",
    "df['barcode']=df['barcode'].astype(str).str.replace(' ','')\n",
    "df['owner_name']=df['owner_name'].astype(str)\n",
    "df['owner_variant']=df['owner_variant'].astype(str)\n",
    "df['blueprint']=df['blueprint'].astype(str)\n",
    "df['material_name']=df['material_name'].astype(str)\n",
    "df['material_variant']=df['material_variant'].astype(str)\n",
    "df['material_bp']=df['material_bp'].astype(str)\n",
    "\n",
    "df['quantity']=df['quantity'].replace(regex={',':'.'}).astype('float')\n",
    "df['owner']=df['owner_name']+', '+df['owner_variant']\n",
    "df['owner']=df['owner'].replace(regex={', nan':''}).astype('str')\n",
    "df['material']=df['material_name']+', '+df['material_variant']\n",
    "df['material']=df['material'].replace(regex={', nan':''}).astype('str')\n"
   ]
  },
  {
   "cell_type": "code",
   "execution_count": 4,
   "id": "9c629485",
   "metadata": {},
   "outputs": [],
   "source": [
    "df=df[['owner','blueprint','material','material_bp','quantity','unit','barcode']]"
   ]
  },
  {
   "cell_type": "code",
   "execution_count": 5,
   "id": "d54c0ba6",
   "metadata": {},
   "outputs": [],
   "source": [
    "df.to_csv('blueprints_parce.csv', encoding='utf-8', index=False, sep=';',quotechar='\"')"
   ]
  }
 ],
 "metadata": {
  "kernelspec": {
   "display_name": "Python 3",
   "language": "python",
   "name": "python3"
  },
  "language_info": {
   "codemirror_mode": {
    "name": "ipython",
    "version": 3
   },
   "file_extension": ".py",
   "mimetype": "text/x-python",
   "name": "python",
   "nbconvert_exporter": "python",
   "pygments_lexer": "ipython3",
   "version": "3.12.4"
  }
 },
 "nbformat": 4,
 "nbformat_minor": 5
}
